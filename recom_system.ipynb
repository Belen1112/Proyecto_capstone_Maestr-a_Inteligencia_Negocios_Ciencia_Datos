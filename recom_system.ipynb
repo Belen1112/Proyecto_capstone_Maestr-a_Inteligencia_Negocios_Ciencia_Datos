{
 "cells": [
  {
   "cell_type": "code",
   "execution_count": 1,
   "id": "8794633f",
   "metadata": {},
   "outputs": [],
   "source": [
    "import ipywidgets as widgets\n",
    "import ipywidgets\n",
    "import networkx as nx\n",
    "import matplotlib.pyplot as plt\n",
    "import numpy as np\n",
    "import pandas as pd"
   ]
  },
  {
   "cell_type": "code",
   "execution_count": 2,
   "id": "5a2ac034",
   "metadata": {},
   "outputs": [],
   "source": [
    "df = pd.read_csv('products-5-stars.csv')  \n",
    "G = nx.from_pandas_edgelist(df, 'Source', 'Target', edge_attr='weight')"
   ]
  },
  {
   "cell_type": "code",
   "execution_count": 5,
   "id": "2ed58034",
   "metadata": {},
   "outputs": [
    {
     "data": {
      "application/vnd.jupyter.widget-view+json": {
       "model_id": "4d64c33bc6cb4becb1cc97410f3968d8",
       "version_major": 2,
       "version_minor": 0
      },
      "text/plain": [
       "interactive(children=(Dropdown(description='producto', options=('B009GUMT2W', 'B002OQ1J08', 'B00CRF7914', 'B00…"
      ]
     },
     "metadata": {},
     "output_type": "display_data"
    }
   ],
   "source": [
    "@ipywidgets.interact\n",
    "def plot(producto=np.random.choice(G.nodes, 100),\n",
    "         n_recomendaciones=[2, 3, 4, 5, 6, 7, 8, 9, 10],\n",
    "        ):          # categorical univariate plot\n",
    "    S = nx.Graph()\n",
    "    top_neighbors = sorted(G[producto].items(), key=lambda edge: edge[1]['weight'])[-10:]\n",
    "    S.add_weighted_edges_from([(producto, tn[0], tn[1]['weight']) for tn in top_neighbors])\n",
    "\n",
    "    pos = nx.spring_layout(S)  # fix layout\n",
    "\n",
    "    colors = ['red']*n_recomendaciones + ['black']*(len(top_neighbors)-n_recomendaciones)\n",
    "    colors.reverse()\n",
    "    weights = [S[u][v]['weight'] for u,v in S.edges()]\n",
    "    labels = nx.get_edge_attributes(S,'weight')\n",
    "\n",
    "    nx.draw_networkx(S, pos, width=weights, edge_color=colors)\n",
    "    nx.draw_networkx_edge_labels(S,pos,edge_labels=labels);\n",
    "    top_neighbors.reverse()\n",
    "    print(\"Productos recomendados:\", top_neighbors)\n",
    "    \n",
    "    plt.axis('off');\n",
    "    plt.show()"
   ]
  },
  {
   "cell_type": "markdown",
   "id": "5e052a6c",
   "metadata": {},
   "source": [
    "### Recomender system \n",
    "\n",
    "- Select product from the drop-down menu.\n",
    "  - A random sample of 100 products is shown in the drop-down items.\n",
    "- Select number of products to recommend. \n",
    "  - As an example only top 10 nodes are depicted, choose between 2 to 10."
   ]
  }
 ],
 "metadata": {
  "kernelspec": {
   "display_name": "Python 3 (ipykernel)",
   "language": "python",
   "name": "python3"
  },
  "language_info": {
   "codemirror_mode": {
    "name": "ipython",
    "version": 3
   },
   "file_extension": ".py",
   "mimetype": "text/x-python",
   "name": "python",
   "nbconvert_exporter": "python",
   "pygments_lexer": "ipython3",
   "version": "3.9.13"
  }
 },
 "nbformat": 4,
 "nbformat_minor": 5
}
